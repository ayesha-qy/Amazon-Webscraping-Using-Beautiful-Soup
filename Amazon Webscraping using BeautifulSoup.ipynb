{
 "cells": [
  {
   "cell_type": "code",
   "execution_count": 23,
   "id": "dcf48b3f",
   "metadata": {},
   "outputs": [
    {
     "name": "stdout",
     "output_type": "stream",
     "text": [
      "Product Title: ANRABESS Womens Summer Casual Sleeveless Square Neck Smocked Ruffle Backless Boho Mini Dress 2024 Trendy Short Sundress, Black, Medium\n",
      "Product Price: ₹6,393.07\n"
     ]
    }
   ],
   "source": [
    "import requests\n",
    "from bs4 import BeautifulSoup\n",
    "\n",
    "# Function to get the HTML content of the page\n",
    "def get_html(url):\n",
    "    try:\n",
    "        headers = {\n",
    "            \"User-Agent\": \"Mozilla/5.0 (Macintosh; Intel Mac OS X 10_15_7) AppleWebKit/537.36 (KHTML, like Gecko) Brave Chrome/91.0.4472.77 Safari/537.36\",\n",
    "            \"Accept-Language\": \"en-US,en;q=0.5\"\n",
    "        }\n",
    "        response = requests.get(url, headers=headers)\n",
    "        response.raise_for_status()  # Raises an HTTPError for bad responses\n",
    "        return response.text\n",
    "    except requests.RequestException as e:\n",
    "        print(f\"Error during requests to {url} : {str(e)}\")\n",
    "        return None\n",
    "\n",
    "# Function to parse the HTML content and extract data\n",
    "def parse_html(html):\n",
    "    soup = BeautifulSoup(html, 'html.parser')\n",
    "    \n",
    "    # Find product title from the <title> tag and clean it\n",
    "    title_tag = soup.find('title')\n",
    "    if title_tag:\n",
    "        title = title_tag.get_text()\n",
    "        # Remove common prefix and suffix in the title tag to clean it\n",
    "        title = title.replace('Buy ', '').split(' at Amazon')[0]\n",
    "    else:\n",
    "        title = 'No Title Found'\n",
    "\n",
    "    # Find product price using the specified class 'aok-offscreen'\n",
    "    price = soup.find('span', class_='aok-offscreen')\n",
    "    price = price.get_text(strip=True) if price else 'No Price Found'\n",
    "    \n",
    "    # Print the extracted data\n",
    "    print(f\"Product Title: {title}\")\n",
    "    print(f\"Product Price: {price}\")\n",
    "\n",
    "\n",
    "# URL of the product page\n",
    "url = 'https://www.amazon.in/ANRABESS-Sleeveless-Backless-Sundress-A1434-heise-M/dp/B0CN2XRCZH/ref=sr_1_5?crid=19IEBX49TLF85&dib=eyJ2IjoiMSJ9.Me8Wlu5kZI_3rAIV-dY-q-i-0Fmh65I7_R8uX4x-gRvlT5lc2zPS7Ujl1juRFCZAtLtxyL7lk2jZZfPJiJ8DA1Io1miVMDTX4y5WpnSR1d6QDiEZLuWMEC1RNxHa0vwJOGU-63rkaC4M6NosZw0n8hLnxirhnJXXMQNa9xibQiBwIQe8Iu_bfd3dFE3pCHNi5dN2ogP3QR4hXelt4DwXM_swdGgIf6uIvk83EVW-dVMuthlLi0UNaoc2F9uPNQb8wSOdD4FlPGBqeLKbnNgmKmgCOltfOOSf4vqS6ar1iI4.AA-3JATeb9f3pxgWonmSQrbvNn5q4PbUvdw81GMQ-MU&dib_tag=se&keywords=summer+dresses+for+women+2024&qid=1715647427&sprefix=%2Caps%2C456&sr=8-5'\n",
    "# Main function to orchestrate the scraping\n",
    "def main():\n",
    "    html_content = get_html(url)\n",
    "    if html_content:\n",
    "        parse_html(html_content)\n",
    "\n",
    "if __name__ == '__main__':\n",
    "    main()\n"
   ]
  },
  {
   "cell_type": "code",
   "execution_count": null,
   "id": "a938b210",
   "metadata": {},
   "outputs": [],
   "source": []
  },
  {
   "cell_type": "code",
   "execution_count": null,
   "id": "5f4e0d3a",
   "metadata": {},
   "outputs": [],
   "source": []
  }
 ],
 "metadata": {
  "kernelspec": {
   "display_name": "Python 3 (ipykernel)",
   "language": "python",
   "name": "python3"
  },
  "language_info": {
   "codemirror_mode": {
    "name": "ipython",
    "version": 3
   },
   "file_extension": ".py",
   "mimetype": "text/x-python",
   "name": "python",
   "nbconvert_exporter": "python",
   "pygments_lexer": "ipython3",
   "version": "3.11.4"
  }
 },
 "nbformat": 4,
 "nbformat_minor": 5
}
